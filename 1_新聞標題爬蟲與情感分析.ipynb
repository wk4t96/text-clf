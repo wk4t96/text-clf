{
 "cells": [
  {
   "cell_type": "markdown",
   "id": "d1b3bf6b",
   "metadata": {},
   "source": [
    "## 爬蟲：捕捉資料\n",
    "新聞標題的 class (分類) 是根據網頁的原始碼所給定的。"
   ]
  },
  {
   "cell_type": "code",
   "execution_count": null,
   "id": "ea22c09a-7d2b-4783-85ca-7c2915739d54",
   "metadata": {},
   "outputs": [
    {
     "name": "stdout",
     "output_type": "stream",
     "text": [
      "https://search.ltn.com.tw/list?keyword=AI&start_time=20241201&end_time=20241231&page=1\n",
      "https://search.ltn.com.tw/list?keyword=AI&start_time=20241201&end_time=20241231&page=2\n",
      "https://search.ltn.com.tw/list?keyword=AI&start_time=20241201&end_time=20241231&page=3\n",
      "https://search.ltn.com.tw/list?keyword=AI&start_time=20241201&end_time=20241231&page=4\n",
      "https://search.ltn.com.tw/list?keyword=AI&start_time=20241201&end_time=20241231&page=5\n",
      "https://search.ltn.com.tw/list?keyword=AI&start_time=20241201&end_time=20241231&page=6\n",
      "https://search.ltn.com.tw/list?keyword=AI&start_time=20241201&end_time=20241231&page=7\n",
      "https://search.ltn.com.tw/list?keyword=AI&start_time=20241201&end_time=20241231&page=8\n",
      "https://search.ltn.com.tw/list?keyword=AI&start_time=20241201&end_time=20241231&page=9\n",
      "https://search.ltn.com.tw/list?keyword=AI&start_time=20241201&end_time=20241231&page=10\n",
      "https://search.ltn.com.tw/list?keyword=AI&start_time=20241201&end_time=20241231&page=11\n",
      "https://search.ltn.com.tw/list?keyword=AI&start_time=20241201&end_time=20241231&page=12\n",
      "https://search.ltn.com.tw/list?keyword=AI&start_time=20241201&end_time=20241231&page=13\n",
      "https://search.ltn.com.tw/list?keyword=AI&start_time=20241201&end_time=20241231&page=14\n",
      "https://search.ltn.com.tw/list?keyword=AI&start_time=20241201&end_time=20241231&page=15\n",
      "https://search.ltn.com.tw/list?keyword=AI&start_time=20241201&end_time=20241231&page=16\n",
      "https://search.ltn.com.tw/list?keyword=AI&start_time=20241201&end_time=20241231&page=17\n",
      "https://search.ltn.com.tw/list?keyword=AI&start_time=20241201&end_time=20241231&page=18\n",
      "https://search.ltn.com.tw/list?keyword=AI&start_time=20241201&end_time=20241231&page=19\n",
      "https://search.ltn.com.tw/list?keyword=AI&start_time=20241201&end_time=20241231&page=20\n",
      "https://search.ltn.com.tw/list?keyword=AI&start_time=20241201&end_time=20241231&page=21\n",
      "https://search.ltn.com.tw/list?keyword=AI&start_time=20241201&end_time=20241231&page=22\n",
      "https://search.ltn.com.tw/list?keyword=AI&start_time=20241201&end_time=20241231&page=23\n",
      "https://search.ltn.com.tw/list?keyword=AI&start_time=20241201&end_time=20241231&page=24\n",
      "https://search.ltn.com.tw/list?keyword=AI&start_time=20241201&end_time=20241231&page=25\n",
      "https://search.ltn.com.tw/list?keyword=AI&start_time=20241201&end_time=20241231&page=26\n",
      "https://search.ltn.com.tw/list?keyword=AI&start_time=20241201&end_time=20241231&page=27\n",
      "https://search.ltn.com.tw/list?keyword=AI&start_time=20241201&end_time=20241231&page=28\n",
      "https://search.ltn.com.tw/list?keyword=AI&start_time=20241201&end_time=20241231&page=29\n",
      "https://search.ltn.com.tw/list?keyword=AI&start_time=20241201&end_time=20241231&page=30\n",
      "https://search.ltn.com.tw/list?keyword=AI&start_time=20241201&end_time=20241231&page=31\n",
      "https://search.ltn.com.tw/list?keyword=AI&start_time=20241201&end_time=20241231&page=32\n",
      "https://search.ltn.com.tw/list?keyword=AI&start_time=20241201&end_time=20241231&page=33\n",
      "https://search.ltn.com.tw/list?keyword=AI&start_time=20241201&end_time=20241231&page=34\n",
      "https://search.ltn.com.tw/list?keyword=AI&start_time=20241201&end_time=20241231&page=35\n",
      "https://search.ltn.com.tw/list?keyword=AI&start_time=20241201&end_time=20241231&page=36\n",
      "https://search.ltn.com.tw/list?keyword=AI&start_time=20241201&end_time=20241231&page=37\n",
      "https://search.ltn.com.tw/list?keyword=AI&start_time=20241201&end_time=20241231&page=38\n",
      "https://search.ltn.com.tw/list?keyword=AI&start_time=20241201&end_time=20241231&page=39\n",
      "https://search.ltn.com.tw/list?keyword=AI&start_time=20241201&end_time=20241231&page=40\n",
      "https://search.ltn.com.tw/list?keyword=AI&start_time=20241201&end_time=20241231&page=41\n",
      "https://search.ltn.com.tw/list?keyword=AI&start_time=20241201&end_time=20241231&page=42\n",
      "https://search.ltn.com.tw/list?keyword=AI&start_time=20241201&end_time=20241231&page=43\n",
      "https://search.ltn.com.tw/list?keyword=AI&start_time=20241201&end_time=20241231&page=44\n",
      "https://search.ltn.com.tw/list?keyword=AI&start_time=20241201&end_time=20241231&page=45\n",
      "https://search.ltn.com.tw/list?keyword=AI&start_time=20241201&end_time=20241231&page=46\n",
      "https://search.ltn.com.tw/list?keyword=AI&start_time=20241201&end_time=20241231&page=47\n",
      "https://search.ltn.com.tw/list?keyword=AI&start_time=20241201&end_time=20241231&page=48\n",
      "https://search.ltn.com.tw/list?keyword=AI&start_time=20241201&end_time=20241231&page=49\n",
      "https://search.ltn.com.tw/list?keyword=AI&start_time=20241201&end_time=20241231&page=50\n",
      "https://search.ltn.com.tw/list?keyword=AI&start_time=20241201&end_time=20241231&page=51\n",
      "https://search.ltn.com.tw/list?keyword=AI&start_time=20241201&end_time=20241231&page=52\n",
      "https://search.ltn.com.tw/list?keyword=AI&start_time=20241201&end_time=20241231&page=53\n",
      "https://search.ltn.com.tw/list?keyword=AI&start_time=20241201&end_time=20241231&page=54\n",
      "https://search.ltn.com.tw/list?keyword=AI&start_time=20241201&end_time=20241231&page=55\n",
      "https://search.ltn.com.tw/list?keyword=AI&start_time=20241201&end_time=20241231&page=56\n"
     ]
    }
   ],
   "source": [
    "# 新聞分類：自由時報 資料捕捉一個月_12月有31日\n",
    "import requests,time,os\n",
    "import pandas as pd\n",
    "from bs4 import BeautifulSoup\n",
    "page=1\n",
    "df=pd.DataFrame(columns=['title','class','time','link'])\n",
    "while True:\n",
    "    time.sleep(3)\n",
    "    url = \"https://search.ltn.com.tw/list?keyword=AI&start_time=20241201&end_time=20241231&page=\"+str(page)\n",
    "    print(url)\n",
    "    headers = {\n",
    "    \"User-Agent\": \"Mozilla/5.0 (Windows NT 10.0; Win64; x64) AppleWebKit/537.36 (KHTML, like Gecko) Chrome/119.0.0.0 Safari/537.36\"\n",
    "    }\n",
    "    response = requests.get(url, headers=headers)\n",
    "    response.encoding='utf-8'\n",
    "    if response.status_code!=200:\n",
    "        break\n",
    "    else:\n",
    "        page+=1\n",
    "    soup=BeautifulSoup(response.text,'html.parser')\n",
    "    objTag = soup.find_all('div',class_='cont')\n",
    "    for data in objTag:\n",
    "        title1=data.find(class_=\"tit\").get_text()\n",
    "        class1=''\n",
    "        try:\n",
    "            class1=data.find(class_=\"immtag chan\").get_text()\n",
    "        except:\n",
    "            pass\n",
    "        try:\n",
    "            class1=data.find(class_=\"immtag chan11\").get_text()\n",
    "        except:\n",
    "            pass   \n",
    "        time1=data.find('span',class_=\"time\").get_text()\n",
    "        tag1=data.find('a',class_=\"tit\").get('href')\n",
    "        df.loc[len(df)]=[title1, class1, time1, tag1]\n",
    "    file_path = \"model_files/ltn1a.csv\"  # 29683 data\n",
    "    write_header = not os.path.exists(file_path)\n",
    "    df.to_csv(file_path, mode='a', index=False, header=write_header, encoding='utf-8-sig')"
   ]
  },
  {
   "cell_type": "markdown",
   "id": "19b10d80",
   "metadata": {},
   "source": [
    "## 2. 情感分析\n",
    "並生成 ltn1_sentiment1.csv"
   ]
  },
  {
   "cell_type": "code",
   "execution_count": null,
   "id": "aba0f665-6aea-4f77-a4b6-a0c58e8e9b78",
   "metadata": {},
   "outputs": [
    {
     "name": "stderr",
     "output_type": "stream",
     "text": [
      "Building prefix dict from the default dictionary ...\n",
      "Loading model from cache C:\\Users\\yjche\\AppData\\Local\\Temp\\jieba.cache\n",
      "Loading model cost 0.596 seconds.\n",
      "Prefix dict has been built successfully.\n"
     ]
    }
   ],
   "source": [
    "import pandas as pd\n",
    "import jieba\n",
    "df = pd.read_csv(\"ltn1a.csv\")\n",
    "\n",
    "positive_words = {\"好\", \"提升\", \"成長\", \"強\", \"讚\", \"創新\", \"贏\", \"熱烈\", \"突破\",\"進補\",\n",
    "\"正向\",\"積極\",\"攻頂\",\"觀光\",\"遊憩\",\"合作\",\"智能客服\",\"無人機\",\"揭露\"}\n",
    "negative_words = {\"壞\", \"下滑\", \"崩盤\", \"惡化\", \"危機\", \"損失\", \"爭議\", \"跌\", \"惱人\",\"過時\"\n",
    ",\"震盪\",\"滅絕\",\"暴政\",\"收黑\",\"拖累\"}\n",
    "\n",
    "def simple_sentiment(text):\n",
    "    tokens = jieba.lcut(str(text))\n",
    "    pos = sum(1 for w in tokens if w in positive_words)\n",
    "    neg = sum(1 for w in tokens if w in negative_words)\n",
    "    if pos > neg:\n",
    "        return \"正面\"\n",
    "    elif neg > pos:\n",
    "        return \"負面\"\n",
    "    else:\n",
    "        return \"中立\"\n",
    "df[\"sentiment\"] = df[\"title\"].apply(simple_sentiment)\n",
    "df.to_csv(\"model_files/ltn1_sentiment1.csv\", index=False, encoding=\"utf-8-sig\")"
   ]
  },
  {
   "cell_type": "code",
   "execution_count": 4,
   "id": "ec0b4ceb-5b7d-4442-bce9-9302150cd1de",
   "metadata": {},
   "outputs": [
    {
     "name": "stdout",
     "output_type": "stream",
     "text": [
      "WARNING:tensorflow:From C:\\ProgramData\\anaconda3\\Lib\\site-packages\\tf_keras\\src\\losses.py:2976: The name tf.losses.sparse_softmax_cross_entropy is deprecated. Please use tf.compat.v1.losses.sparse_softmax_cross_entropy instead.\n",
      "\n"
     ]
    },
    {
     "name": "stderr",
     "output_type": "stream",
     "text": [
      "Device set to use cpu\n",
      "分析情緒中: 100%|██████████████████████████████████████████████████████████████| 29682/29682 [1:31:57<00:00,  5.38it/s]\n"
     ]
    },
    {
     "name": "stdout",
     "output_type": "stream",
     "text": [
      "分析完成，已儲存為 ltn1_sentiment2.csv\n"
     ]
    }
   ],
   "source": [
    "import pandas as pd\n",
    "from transformers import pipeline\n",
    "from tqdm import tqdm\n",
    "df = pd.read_csv(\"ltn1a.csv\")\n",
    "if \"title\" not in df.columns:\n",
    "    raise ValueError(\"CSV 檔案中缺少 title 欄位\")\n",
    "classifier = pipeline(\"text-classification\", model=\"IDEA-CCNL/Erlangshen-RoBERTa-110M-Sentiment\")\n",
    "def analyze_sentiment(text):\n",
    "    try:\n",
    "        result = classifier(str(text)[:512])[0] \n",
    "        return result[\"label\"]  # 'pos', 'neg', 'neu'\n",
    "    except:\n",
    "        return \"error\"\n",
    "tqdm.pandas(desc=\"分析情緒中\")\n",
    "df[\"sentiment\"] = df[\"title\"].progress_apply(analyze_sentiment)\n",
    "df.to_csv(\"ltn1_sentiment2.csv\", index=False, encoding=\"utf-8-sig\")\n",
    "print(\"分析完成，已儲存為 ltn1_sentiment2.csv\")\n"
   ]
  },
  {
   "cell_type": "code",
   "execution_count": null,
   "id": "56e7325e-0c39-4250-88ec-eb295cc4eb7f",
   "metadata": {},
   "outputs": [],
   "source": []
  }
 ],
 "metadata": {
  "kernelspec": {
   "display_name": "Python 3",
   "language": "python",
   "name": "python3"
  },
  "language_info": {
   "codemirror_mode": {
    "name": "ipython",
    "version": 3
   },
   "file_extension": ".py",
   "mimetype": "text/x-python",
   "name": "python",
   "nbconvert_exporter": "python",
   "pygments_lexer": "ipython3",
   "version": "3.11.8"
  }
 },
 "nbformat": 4,
 "nbformat_minor": 5
}
