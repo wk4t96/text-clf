{
 "cells": [
  {
   "cell_type": "markdown",
   "id": "d7c66e6a",
   "metadata": {},
   "source": [
    "## 文本資料進行sklearn分類"
   ]
  },
  {
   "cell_type": "code",
   "execution_count": 1,
   "id": "0e347468",
   "metadata": {},
   "outputs": [],
   "source": [
    "import pandas as pd\n",
    "import jieba\n",
    "from sklearn.feature_extraction.text import TfidfVectorizer\n",
    "from sklearn.naive_bayes import MultinomialNB\n",
    "from sklearn.preprocessing import LabelEncoder\n",
    "import joblib"
   ]
  },
  {
   "cell_type": "markdown",
   "id": "10b4ff31",
   "metadata": {},
   "source": [
    "#### 訓練 Multinomial naive bayes 模型"
   ]
  },
  {
   "cell_type": "code",
   "execution_count": 2,
   "id": "9f13df0e",
   "metadata": {},
   "outputs": [
    {
     "name": "stderr",
     "output_type": "stream",
     "text": [
      "Building prefix dict from the default dictionary ...\n",
      "Loading model from cache C:\\Users\\yjche\\AppData\\Local\\Temp\\jieba.cache\n",
      "Loading model cost 0.916 seconds.\n",
      "Prefix dict has been built successfully.\n"
     ]
    },
    {
     "name": "stdout",
     "output_type": "stream",
     "text": [
      "                          title class        time  \\\n",
      "1  美國股市受科技股拖累全收黑  台積電ADR小跌0.61％    財經  2024/12/31   \n",
      "2     金融時報： 機器人市場即將爆發 就像ChatGPT    財經  2024/12/31   \n",
      "3       台積電今年股價飆漲逾八成 市值年增超過12兆元    財經  2024/12/31   \n",
      "\n",
      "                                                link sentiment  \\\n",
      "1  https://ec.ltn.com.tw/article/breakingnews/490...        負面   \n",
      "2  https://ec.ltn.com.tw/article/breakingnews/490...        中立   \n",
      "3  https://ec.ltn.com.tw/article/breakingnews/490...        中立   \n",
      "\n",
      "                                   cut_title  label  \n",
      "1  美國 股市 受 科技股 拖累 全收 黑     台積電 ADR 小跌 0.61 ％      6  \n",
      "2      金融 時報 ：   機器 人 市場 即將 爆發   就 像 ChatGPT      6  \n",
      "3         台積電 今年 股價 飆漲 逾 八成   市值 年 增超過 12 兆元      6  \n",
      "顯示分類的編號與名稱\n",
      "以字典方式處理，編號是key代表不重複，value是名稱\n",
      "Class dictionary: {'財經': 6, '生活': 3, '國際': 0, '財經週報': 7, '社會': 4, '政治': 1, '焦點': 2, '軍武': 8, '蒐奇': 5}\n",
      "Naive Bayes 模型與 TF-IDF 向量器已儲存完成！\n"
     ]
    }
   ],
   "source": [
    "df = pd.read_csv(\"ltn1_sentiment1.csv\").dropna(subset=[\"title\", \"class\"])\n",
    "# 使用 jieba 進行中文斷詞，並將斷詞結果以空格(\" \")連接\n",
    "df[\"cut_title\"] = df[\"title\"].apply(lambda x: \" \".join(jieba.cut(str(x))))\n",
    "le = LabelEncoder()  # 初始化 LabelEncoder (類別標籤編碼器)：將 \"class\" 欄位中的類別標籤轉換為數字\n",
    "df[\"label\"] = le.fit_transform(df[\"class\"])\n",
    "    # fit() 方法用於擬合資料，即學習 \"class\" 欄位中每個不同的類別標籤。\n",
    "    # transform() 方法則將 \"class\" 欄位中的每個類別標籤轉換為對應的數字。\n",
    "joblib.dump(le, \"label_encoder_nb.joblib\")  # 將訓練好的 LabelEncoder 物件儲存到檔案\n",
    "    # joblib.dump(le, \"label_encoder_nb.joblib\")：這是 joblib 庫的用法，用於將 Python 物件序列化到磁碟檔案。\n",
    "    # 它將訓練好的 LabelEncoder 物件 le 儲存到 ....joblib 檔案中，以便後續可以載入並用於轉換新的類別標籤。\n",
    "print(df.head(3))\n",
    "\n",
    "df1 = pd.DataFrame()\n",
    "df1['class']=df['class'] # string\n",
    "df1['label']=df['label'] # number\n",
    "df1.to_html('df1.html')\n",
    "df.to_csv(\"df.csv\", index=False, encoding=\"utf-8-sig\")\n",
    "\n",
    "print('顯示分類的編號與名稱')\n",
    "print('以字典方式處理，編號是key代表不重複，value是名稱')\n",
    "dict1={}\n",
    "label1=''\n",
    "class1=''\n",
    "for index,row in df1.iterrows():\n",
    "   for key,value in row.items():\n",
    "     #print('key=',key)\n",
    "     if key=='class':\n",
    "        class1=value\n",
    "     if key=='label':\n",
    "        label1=value\n",
    "     add_dic={class1:label1}\n",
    "     dict1.update(add_dic)\n",
    "print(\"Class dictionary:\", dict1)\n",
    "\n",
    "vectorizer = TfidfVectorizer(max_features=5000)  # 初始化 TfidfVectorizer：用於將文本資料轉換為 TF-IDF 特徵向量的工具\n",
    "X = vectorizer.fit_transform(df[\"cut_title\"])    # 將斷詞後的 \"cut_title\" 欄位轉換為 TF-IDF 特徵矩陣\n",
    "#print(X)\n",
    "y = df[\"label\"]\n",
    "joblib.dump(vectorizer, \"tfidf_vectorizer.joblib\")\n",
    "\n",
    "model = MultinomialNB()  # 初始化 Multinomial Naive Bayes 模型\n",
    "model.fit(X, y)\n",
    "# 將訓練好的 MultinomialNB 模型 model 儲存到名為 \"nb_model.joblib\" 的檔案中，以便後續可以載入並用於預測新的資料。\n",
    "joblib.dump(model, \"nb_model.joblib\")\n",
    "print(\"Naive Bayes 模型與 TF-IDF 向量器已儲存完成！\")"
   ]
  },
  {
   "cell_type": "markdown",
   "id": "8b7a0d96",
   "metadata": {},
   "source": [
    "## 訓練 LSTM "
   ]
  },
  {
   "cell_type": "code",
   "execution_count": 8,
   "id": "a7477247",
   "metadata": {},
   "outputs": [],
   "source": [
    "import pandas as pd\n",
    "import numpy as np\n",
    "import jieba\n",
    "import pickle\n",
    "from sklearn.preprocessing import LabelEncoder\n",
    "from sklearn.model_selection import train_test_split\n",
    "from tensorflow.keras.preprocessing.text import Tokenizer\n",
    "from tensorflow.keras.preprocessing.sequence import pad_sequences\n",
    "from tensorflow.keras.models import Sequential\n",
    "from tensorflow.keras.layers import Embedding, LSTM, Dense\n",
    "from tensorflow.keras.callbacks import EarlyStopping"
   ]
  },
  {
   "cell_type": "code",
   "execution_count": null,
   "id": "97f0edb3",
   "metadata": {},
   "outputs": [],
   "source": [
    "df = pd.read_csv(\"model_files/ltn1_sentiment1.csv\")\n",
    "df = df.dropna(subset=[\"title\", \"class\"])\n",
    "df[\"cut_title\"] = df[\"title\"].apply(lambda x: \" \".join(jieba.cut(str(x))))\n",
    "label_encoder = LabelEncoder()\n",
    "y = label_encoder.fit_transform(df[\"class\"])  # 將 class 編碼\n",
    "with open(\"model_files/label_encoder_lstm.pickle\", \"wb\") as f:\n",
    "    pickle.dump(label_encoder, f)\n",
    "MAX_LEN = 30\n",
    "NUM_WORDS = 10000"
   ]
  },
  {
   "cell_type": "code",
   "execution_count": null,
   "id": "a3692802",
   "metadata": {},
   "outputs": [
    {
     "name": "stderr",
     "output_type": "stream",
     "text": [
      "C:\\Users\\yjche\\AppData\\Local\\Packages\\PythonSoftwareFoundation.Python.3.11_qbz5n2kfra8p0\\LocalCache\\local-packages\\Python311\\site-packages\\keras\\src\\layers\\core\\embedding.py:90: UserWarning: Argument `input_length` is deprecated. Just remove it.\n",
      "  warnings.warn(\n"
     ]
    }
   ],
   "source": [
    "tokenizer = Tokenizer(num_words=NUM_WORDS, oov_token=\"<OOV>\")  # Tokenizer 用於將文本轉換為整數序列\n",
    "tokenizer.fit_on_texts(df[\"cut_title\"])  # 使用文本資料擬合 Tokenizer，建立詞彙表（將每個詞語映射到一個整數索引）\n",
    "sequences = tokenizer.texts_to_sequences(df[\"cut_title\"])      # 將輸入的文本列表轉換為對應的整數序列列表\n",
    "X = pad_sequences(sequences, maxlen=MAX_LEN, padding=\"post\")   # 將不同長度的整數序列填充到相同的長度\n",
    "with open(\"model_files/tokenizer_lstm.pickle\", \"wb\") as f:\n",
    "    pickle.dump(tokenizer, f)  # 將 Tokenizer 物件序列化並儲存到檔案\n",
    "\n",
    "X_train, X_test, y_train, y_test = train_test_split(X, y, test_size=0.3, random_state=42)\n",
    "model = Sequential([\n",
    "    Embedding(input_dim=NUM_WORDS, output_dim=128, input_length=MAX_LEN),\n",
    "    LSTM(64),\n",
    "    Dense(64, activation='relu'),\n",
    "    Dense(len(set(y)), activation='softmax')\n",
    "])"
   ]
  },
  {
   "cell_type": "code",
   "execution_count": null,
   "id": "f58b670a",
   "metadata": {},
   "outputs": [
    {
     "name": "stdout",
     "output_type": "stream",
     "text": [
      "Epoch 1/10\n",
      "\u001b[1m552/552\u001b[0m \u001b[32m━━━━━━━━━━━━━━━━━━━━\u001b[0m\u001b[37m\u001b[0m \u001b[1m20s\u001b[0m 31ms/step - accuracy: 0.7400 - loss: 0.9250 - val_accuracy: 0.9793 - val_loss: 0.0722\n",
      "Epoch 2/10\n",
      "\u001b[1m552/552\u001b[0m \u001b[32m━━━━━━━━━━━━━━━━━━━━\u001b[0m\u001b[37m\u001b[0m \u001b[1m17s\u001b[0m 30ms/step - accuracy: 0.9802 - loss: 0.0609 - val_accuracy: 0.9900 - val_loss: 0.0304\n",
      "Epoch 3/10\n",
      "\u001b[1m552/552\u001b[0m \u001b[32m━━━━━━━━━━━━━━━━━━━━\u001b[0m\u001b[37m\u001b[0m \u001b[1m17s\u001b[0m 30ms/step - accuracy: 0.9941 - loss: 0.0241 - val_accuracy: 0.9919 - val_loss: 0.0269\n",
      "Epoch 4/10\n",
      "\u001b[1m552/552\u001b[0m \u001b[32m━━━━━━━━━━━━━━━━━━━━\u001b[0m\u001b[37m\u001b[0m \u001b[1m17s\u001b[0m 30ms/step - accuracy: 0.9951 - loss: 0.0169 - val_accuracy: 0.9967 - val_loss: 0.0123\n",
      "Epoch 5/10\n",
      "\u001b[1m552/552\u001b[0m \u001b[32m━━━━━━━━━━━━━━━━━━━━\u001b[0m\u001b[37m\u001b[0m \u001b[1m17s\u001b[0m 30ms/step - accuracy: 0.9959 - loss: 0.0114 - val_accuracy: 0.9972 - val_loss: 0.0093\n",
      "Epoch 6/10\n",
      "\u001b[1m552/552\u001b[0m \u001b[32m━━━━━━━━━━━━━━━━━━━━\u001b[0m\u001b[37m\u001b[0m \u001b[1m17s\u001b[0m 30ms/step - accuracy: 0.9976 - loss: 0.0070 - val_accuracy: 0.9983 - val_loss: 0.0054\n",
      "Epoch 7/10\n",
      "\u001b[1m552/552\u001b[0m \u001b[32m━━━━━━━━━━━━━━━━━━━━\u001b[0m\u001b[37m\u001b[0m \u001b[1m17s\u001b[0m 30ms/step - accuracy: 0.9974 - loss: 0.0070 - val_accuracy: 0.9815 - val_loss: 0.0715\n",
      "Epoch 8/10\n",
      "\u001b[1m552/552\u001b[0m \u001b[32m━━━━━━━━━━━━━━━━━━━━\u001b[0m\u001b[37m\u001b[0m \u001b[1m21s\u001b[0m 31ms/step - accuracy: 0.9949 - loss: 0.0145 - val_accuracy: 0.9985 - val_loss: 0.0031\n",
      "Epoch 9/10\n",
      "\u001b[1m552/552\u001b[0m \u001b[32m━━━━━━━━━━━━━━━━━━━━\u001b[0m\u001b[37m\u001b[0m \u001b[1m17s\u001b[0m 31ms/step - accuracy: 0.9988 - loss: 0.0028 - val_accuracy: 0.9985 - val_loss: 0.0025\n",
      "Epoch 10/10\n",
      "\u001b[1m552/552\u001b[0m \u001b[32m━━━━━━━━━━━━━━━━━━━━\u001b[0m\u001b[37m\u001b[0m \u001b[1m17s\u001b[0m 32ms/step - accuracy: 0.9982 - loss: 0.0030 - val_accuracy: 0.9985 - val_loss: 0.0028\n"
     ]
    },
    {
     "name": "stderr",
     "output_type": "stream",
     "text": [
      "WARNING:absl:You are saving your model as an HDF5 file via `model.save()` or `keras.saving.save_model(model)`. This file format is considered legacy. We recommend using instead the native Keras format, e.g. `model.save('my_model.keras')` or `keras.saving.save_model(model, 'my_model.keras')`. \n"
     ]
    },
    {
     "name": "stdout",
     "output_type": "stream",
     "text": [
      "LSTM 模型與 tokenizer 已儲存完成！\n"
     ]
    }
   ],
   "source": [
    "model.compile(loss='sparse_categorical_crossentropy', optimizer='adam', metrics=['accuracy'])\n",
    "early_stop = EarlyStopping(monitor='val_loss', patience=3, restore_best_weights=True)\n",
    "model.fit(X_train, y_train, validation_data=(X_test, y_test),\n",
    "    epochs=10, batch_size=32, callbacks=[early_stop])\n",
    "model.save(\"model_files/lstm_news_model.h5\")\n",
    "print(\"LSTM 模型與 tokenizer 已儲存完成！\")"
   ]
  },
  {
   "cell_type": "code",
   "execution_count": null,
   "id": "8fe3bde5",
   "metadata": {},
   "outputs": [
    {
     "name": "stderr",
     "output_type": "stream",
     "text": [
      "WARNING:absl:Compiled the loaded model, but the compiled metrics have yet to be built. `model.compile_metrics` will be empty until you train or evaluate the model.\n"
     ]
    },
    {
     "name": "stdout",
     "output_type": "stream",
     "text": [
      "7-模型進行預估\n",
      "\u001b[1m237/237\u001b[0m \u001b[32m━━━━━━━━━━━━━━━━━━━━\u001b[0m\u001b[37m\u001b[0m \u001b[1m2s\u001b[0m 9ms/step\n",
      "\u001b[1m552/552\u001b[0m \u001b[32m━━━━━━━━━━━━━━━━━━━━\u001b[0m\u001b[37m\u001b[0m \u001b[1m4s\u001b[0m 8ms/step\n",
      "8-模型進行評估\n",
      "訓練的準確率\n",
      " 0.998188098069192\n",
      "測試的準確率\n",
      " 0.9985468956406869\n",
      "分類報告\n",
      "               precision    recall  f1-score   support\n",
      "\n",
      "           0       1.00      1.00      1.00       197\n",
      "           1       1.00      1.00      1.00       457\n",
      "           2       1.00      1.00      1.00       122\n",
      "           3       1.00      0.99      1.00      1274\n",
      "           4       1.00      1.00      1.00       143\n",
      "           5       1.00      1.00      1.00         8\n",
      "           6       1.00      1.00      1.00      5020\n",
      "           7       1.00      1.00      1.00       294\n",
      "           8       1.00      1.00      1.00        55\n",
      "\n",
      "    accuracy                           1.00      7570\n",
      "   macro avg       1.00      1.00      1.00      7570\n",
      "weighted avg       1.00      1.00      1.00      7570\n",
      "\n",
      "混淆矩陣\n",
      " [[ 197    0    0    0    0    0    0    0    0]\n",
      " [   0  457    0    0    0    0    0    0    0]\n",
      " [   0    0  122    0    0    0    0    0    0]\n",
      " [   0    0    0 1263    0    0   11    0    0]\n",
      " [   0    0    0    0  143    0    0    0    0]\n",
      " [   0    0    0    0    0    8    0    0    0]\n",
      " [   0    0    0    0    0    0 5020    0    0]\n",
      " [   0    0    0    0    0    0    0  294    0]\n",
      " [   0    0    0    0    0    0    0    0   55]]\n",
      "------------------------------\n"
     ]
    }
   ],
   "source": [
    "from scipy.sparse import issparse # 檢查是否為稀疏矩陣\n",
    "from sklearn.metrics import accuracy_score #準確率\n",
    "from sklearn.metrics import classification_report #分類報告\n",
    "from sklearn.metrics import confusion_matrix #混淆矩陣\n",
    "from tensorflow import keras\n",
    "import numpy as np\n",
    "\n",
    "loaded_model = keras.models.load_model(\"model_files/lstm_news_model.h5\")\n",
    "print('7-模型進行預估')\n",
    "# predict1 = loaded_model.predict(X_test)\n",
    "# predict2 = loaded_model.predict(X_train)\n",
    "\n",
    "# 對測試集進行預測並取得類別標籤\n",
    "if issparse(X_test):\n",
    "    X_test_dense = X_test.toarray()\n",
    "    predict_probabilities_test = loaded_model.predict(X_test_dense)\n",
    "else:\n",
    "    predict_probabilities_test = loaded_model.predict(X_test)\n",
    "predict1 = np.argmax(predict_probabilities_test, axis=-1) # 取得機率最高的類別標籤\n",
    "\n",
    "# 對訓練集進行預測並取得類別標籤\n",
    "if issparse(X_train):\n",
    "    predict_probabilities_train = loaded_model.predict(X_train.toarray())\n",
    "else:\n",
    "    predict_probabilities_train = loaded_model.predict(X_train)\n",
    "predict2 = np.argmax(predict_probabilities_train, axis=-1) # 取得機率最高的類別標籤\n",
    "\n",
    "print('8-模型進行評估')\n",
    "print('訓練的準確率\\n', accuracy_score(y_train, predict2))\n",
    "print('測試的準確率\\n', accuracy_score(y_test, predict1))\n",
    "print('分類報告\\n', classification_report(y_test, predict1))\n",
    "print('混淆矩陣\\n', confusion_matrix(y_test, predict1))\n",
    "print('-' * 30) # 添加分隔線以區分不同模型的輸出"
   ]
  },
  {
   "cell_type": "markdown",
   "id": "fb7baf57",
   "metadata": {},
   "source": [
    "## 比較各個模型"
   ]
  },
  {
   "cell_type": "code",
   "execution_count": 1,
   "id": "f72e51ac",
   "metadata": {},
   "outputs": [
    {
     "data": {
      "image/png": "[encoded data removed]",
      "text/plain": [
       "<Figure size 1200x600 with 1 Axes>"
      ]
     },
     "metadata": {},
     "output_type": "display_data"
    }
   ],
   "source": [
    "import matplotlib.pyplot as plt\n",
    "import numpy as np\n",
    "\n",
    "data = {\n",
    "    \"KNN\": {\n",
    "        \"training_accurary\": 0.9982447200045298,\n",
    "        \"testing_accurary\": 0.997886393659181\n",
    "    },\n",
    "    \"DecisionTree1\": {\n",
    "        \"training_accurary\": 0.9984712077458807,\n",
    "        \"testing_accurary\": 0.9981505944517833\n",
    "    },\n",
    "    \"DecisionTree2\": {\n",
    "        \"training_accurary\": 0.7685295283392787,\n",
    "        \"testing_accurary\": 0.7719947159841479\n",
    "    },\n",
    "    \"SVC_linear\": {\n",
    "        \"training_accurary\": 0.9857142857142858,\n",
    "        \"testing_accurary\": 0.9666666666666667\n",
    "    },\n",
    "    \"SVC_rbf\": {\n",
    "        \"training_accurary\": 0.9814285714285714,\n",
    "        \"testing_accurary\": 0.9633333333333334\n",
    "    },\n",
    "    \"GaussianNB\": {\n",
    "        \"training_accurary\": 0.994790781948927,\n",
    "        \"testing_accurary\": 0.9937912813738441\n",
    "    },\n",
    "    \"LogisticRegression\": {\n",
    "        \"training_accurary\": 0.996602683879735,\n",
    "        \"testing_accurary\": 0.9961690885072655\n",
    "    },\n",
    "    \"MultinomialNB\": {\n",
    "        \"training_accurary\": 0.9969990374270993,\n",
    "        \"testing_accurary\": 0.9966974900924703\n",
    "    }\n",
    "}\n",
    "\n",
    "model_names = list(data.keys())\n",
    "training_accuracies = [data[model][\"training_accurary\"] * 100 for model in model_names]\n",
    "testing_accuracies = [data[model][\"testing_accurary\"] * 100 for model in model_names]\n",
    "\n",
    "x = np.arange(len(model_names))\n",
    "width = 0.35\n",
    "\n",
    "fig, ax = plt.subplots(figsize=(12, 6))\n",
    "rects1 = ax.bar(x - width/2, training_accuracies, width, label='Training Accuracy')\n",
    "rects2 = ax.bar(x + width/2, testing_accuracies, width, label='Testing Accuracy')\n",
    "\n",
    "# 在長條圖上顯示百分比數值\n",
    "def autolabel(rects):\n",
    "    \"\"\"Attach a text label above each bar in *rects*, displaying its height.\"\"\"\n",
    "    for rect in rects:\n",
    "        height = rect.get_height()\n",
    "        ax.annotate(f'{height:.2f}%',\n",
    "                    xy=(rect.get_x() + rect.get_width() / 2, height),\n",
    "                    xytext=(0, 3),  # 3 points vertical offset\n",
    "                    textcoords=\"offset points\",\n",
    "                    ha='center', va='bottom')\n",
    "\n",
    "autolabel(rects1)\n",
    "autolabel(rects2)\n",
    "\n",
    "# 設定圖表的標題、標籤和刻度\n",
    "ax.set_ylabel('Accuracy (%)')\n",
    "ax.set_xlabel('Model Name')\n",
    "ax.set_title('Training and Testing Accuracy by Model')\n",
    "ax.set_xticks(x)\n",
    "ax.set_xticklabels(model_names, rotation=45, ha=\"right\")\n",
    "ax.legend()\n",
    "\n",
    "fig.tight_layout()\n",
    "plt.show()"
   ]
  }
 ],
 "metadata": {
  "kernelspec": {
   "display_name": "Python 3",
   "language": "python",
   "name": "python3"
  },
  "language_info": {
   "codemirror_mode": {
    "name": "ipython",
    "version": 3
   },
   "file_extension": ".py",
   "mimetype": "text/x-python",
   "name": "python",
   "nbconvert_exporter": "python",
   "pygments_lexer": "ipython3",
   "version": "3.11.8"
  }
 },
 "nbformat": 4,
 "nbformat_minor": 5
}
